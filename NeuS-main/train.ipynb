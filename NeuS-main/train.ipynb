{
 "cells": [
  {
   "cell_type": "code",
   "source": [
    "import os\n",
    "from google.colab import drive\n",
    "drive.mount('/content/drive', force_remount=True)\n",
    "\n",
    "# We assume you uploaded the exercise folder in root Google Drive folder\n",
    "\n",
    "!cp -r /content/drive/MyDrive/ML43D_NeuS ML43D_NeuS/\n",
    "os.chdir('/content/ML43D_NeuS/NeuS-main')\n",
    "\n",
    "print('Installing requirements')\n",
    "%pip install -r requirements.txt"
   ],
   "metadata": {
    "colab": {
     "base_uri": "https://localhost:8080/"
    },
    "id": "n-JQYoPzQqQJ",
    "executionInfo": {
     "status": "ok",
     "timestamp": 1689860961250,
     "user_tz": -120,
     "elapsed": 257825,
     "user": {
      "displayName": "Julian Link",
      "userId": "07223180020238888811"
     }
    },
    "outputId": "76e28430-4285-47c8-88d8-516a05b8698b"
   },
   "execution_count": 1,
   "outputs": [
    {
     "output_type": "stream",
     "name": "stdout",
     "text": [
      "Mounted at /content/drive\n",
      "Installing requirements\n",
      "Collecting trimesh==3.9.8 (from -r requirements.txt (line 1))\n",
      "  Downloading trimesh-3.9.8-py3-none-any.whl (629 kB)\n",
      "\u001B[2K     \u001B[90m━━━━━━━━━━━━━━━━━━━━━━━━━━━━━━━━━━━━━━━\u001B[0m \u001B[32m629.4/629.4 kB\u001B[0m \u001B[31m6.5 MB/s\u001B[0m eta \u001B[36m0:00:00\u001B[0m\n",
      "\u001B[?25hCollecting pyhocon==0.3.57 (from -r requirements.txt (line 3))\n",
      "  Downloading pyhocon-0.3.57.tar.gz (110 kB)\n",
      "\u001B[2K     \u001B[90m━━━━━━━━━━━━━━━━━━━━━━━━━━━━━━━━━━━━━━━\u001B[0m \u001B[32m110.8/110.8 kB\u001B[0m \u001B[31m7.1 MB/s\u001B[0m eta \u001B[36m0:00:00\u001B[0m\n",
      "\u001B[?25h  Preparing metadata (setup.py) ... \u001B[?25l\u001B[?25hdone\n",
      "Collecting icecream==2.1.0 (from -r requirements.txt (line 4))\n",
      "  Downloading icecream-2.1.0-py2.py3-none-any.whl (8.0 kB)\n",
      "Requirement already satisfied: opencv_python in /usr/local/lib/python3.10/dist-packages (from -r requirements.txt (line 5)) (4.7.0.72)\n",
      "Requirement already satisfied: tqdm in /usr/local/lib/python3.10/dist-packages (from -r requirements.txt (line 6)) (4.65.0)\n",
      "Requirement already satisfied: torch in /usr/local/lib/python3.10/dist-packages (from -r requirements.txt (line 7)) (2.0.1+cu118)\n",
      "Requirement already satisfied: scipy in /usr/local/lib/python3.10/dist-packages (from -r requirements.txt (line 8)) (1.10.1)\n",
      "Collecting PyMCubes==0.1.2 (from -r requirements.txt (line 9))\n",
      "  Downloading PyMCubes-0.1.2.tar.gz (42 kB)\n",
      "\u001B[2K     \u001B[90m━━━━━━━━━━━━━━━━━━━━━━━━━━━━━━━━━━━━━━━━\u001B[0m \u001B[32m42.5/42.5 kB\u001B[0m \u001B[31m4.7 MB/s\u001B[0m eta \u001B[36m0:00:00\u001B[0m\n",
      "\u001B[?25h  Preparing metadata (setup.py) ... \u001B[?25l\u001B[?25hdone\n",
      "Requirement already satisfied: numpy in /usr/local/lib/python3.10/dist-packages (from trimesh==3.9.8->-r requirements.txt (line 1)) (1.22.4)\n",
      "Requirement already satisfied: setuptools in /usr/local/lib/python3.10/dist-packages (from trimesh==3.9.8->-r requirements.txt (line 1)) (67.7.2)\n",
      "Requirement already satisfied: pyparsing>=2.0.3 in /usr/local/lib/python3.10/dist-packages (from pyhocon==0.3.57->-r requirements.txt (line 3)) (3.1.0)\n",
      "Collecting colorama>=0.3.9 (from icecream==2.1.0->-r requirements.txt (line 4))\n",
      "  Downloading colorama-0.4.6-py2.py3-none-any.whl (25 kB)\n",
      "Requirement already satisfied: pygments>=2.2.0 in /usr/local/lib/python3.10/dist-packages (from icecream==2.1.0->-r requirements.txt (line 4)) (2.14.0)\n",
      "Collecting executing>=0.3.1 (from icecream==2.1.0->-r requirements.txt (line 4))\n",
      "  Downloading executing-1.2.0-py2.py3-none-any.whl (24 kB)\n",
      "Collecting asttokens>=2.0.1 (from icecream==2.1.0->-r requirements.txt (line 4))\n",
      "  Downloading asttokens-2.2.1-py2.py3-none-any.whl (26 kB)\n",
      "Requirement already satisfied: filelock in /usr/local/lib/python3.10/dist-packages (from torch->-r requirements.txt (line 7)) (3.12.2)\n",
      "Requirement already satisfied: typing-extensions in /usr/local/lib/python3.10/dist-packages (from torch->-r requirements.txt (line 7)) (4.7.1)\n",
      "Requirement already satisfied: sympy in /usr/local/lib/python3.10/dist-packages (from torch->-r requirements.txt (line 7)) (1.11.1)\n",
      "Requirement already satisfied: networkx in /usr/local/lib/python3.10/dist-packages (from torch->-r requirements.txt (line 7)) (3.1)\n",
      "Requirement already satisfied: jinja2 in /usr/local/lib/python3.10/dist-packages (from torch->-r requirements.txt (line 7)) (3.1.2)\n",
      "Requirement already satisfied: triton==2.0.0 in /usr/local/lib/python3.10/dist-packages (from torch->-r requirements.txt (line 7)) (2.0.0)\n",
      "Requirement already satisfied: cmake in /usr/local/lib/python3.10/dist-packages (from triton==2.0.0->torch->-r requirements.txt (line 7)) (3.25.2)\n",
      "Requirement already satisfied: lit in /usr/local/lib/python3.10/dist-packages (from triton==2.0.0->torch->-r requirements.txt (line 7)) (16.0.6)\n",
      "Requirement already satisfied: six in /usr/local/lib/python3.10/dist-packages (from asttokens>=2.0.1->icecream==2.1.0->-r requirements.txt (line 4)) (1.16.0)\n",
      "Requirement already satisfied: MarkupSafe>=2.0 in /usr/local/lib/python3.10/dist-packages (from jinja2->torch->-r requirements.txt (line 7)) (2.1.3)\n",
      "Requirement already satisfied: mpmath>=0.19 in /usr/local/lib/python3.10/dist-packages (from sympy->torch->-r requirements.txt (line 7)) (1.3.0)\n",
      "Building wheels for collected packages: pyhocon, PyMCubes\n",
      "  Building wheel for pyhocon (setup.py) ... \u001B[?25l\u001B[?25hdone\n",
      "  Created wheel for pyhocon: filename=pyhocon-0.3.57-py3-none-any.whl size=18526 sha256=392a5a2ff5edee59b1cf7fe21cde9dd5b6e7409fb011379c72ae1306904dbff4\n",
      "  Stored in directory: /root/.cache/pip/wheels/42/1d/1b/dfad8313e1fbc92c66106fd38693e568ee12fd4bb812309150\n",
      "  Building wheel for PyMCubes (setup.py) ... \u001B[?25l\u001B[?25hdone\n",
      "  Created wheel for PyMCubes: filename=PyMCubes-0.1.2-cp310-cp310-linux_x86_64.whl size=223545 sha256=f4aa127355be5bf6a964dcd2ac125a7571aafb35e47a5ddea5d71688366b2a75\n",
      "  Stored in directory: /root/.cache/pip/wheels/89/07/d8/458feeee3ebf91b9d4147bc48a2f2581da7497a9060b7674ee\n",
      "Successfully built pyhocon PyMCubes\n",
      "Installing collected packages: PyMCubes, executing, trimesh, pyhocon, colorama, asttokens, icecream\n",
      "Successfully installed PyMCubes-0.1.2 asttokens-2.2.1 colorama-0.4.6 executing-1.2.0 icecream-2.1.0 pyhocon-0.3.57 trimesh-3.9.8\n"
     ]
    }
   ]
  },
  {
   "cell_type": "code",
   "source": [
    "import os\n",
    "import sys\n",
    "import torch\n",
    "os.chdir('/content/ML43D_NeuS/NeuS-main')\n",
    "sys.path.insert(1, \"/content/ML43D_NeuS/NeuS-main/\")\n",
    "print('CUDA availability:', torch.cuda.is_available())"
   ],
   "metadata": {
    "colab": {
     "base_uri": "https://localhost:8080/"
    },
    "id": "zR51NYsBQ_8a",
    "executionInfo": {
     "status": "ok",
     "timestamp": 1689860965829,
     "user_tz": -120,
     "elapsed": 4590,
     "user": {
      "displayName": "Julian Link",
      "userId": "07223180020238888811"
     }
    },
    "outputId": "775a9962-bed8-410d-d1d4-c6f8c27be926"
   },
   "execution_count": 2,
   "outputs": [
    {
     "output_type": "stream",
     "name": "stdout",
     "text": [
      "CUDA availability: True\n"
     ]
    }
   ]
  },
  {
   "cell_type": "code",
   "execution_count": null,
   "metadata": {
    "colab": {
     "base_uri": "https://localhost:8080/"
    },
    "id": "At-UHbevPft7",
    "outputId": "d4a0b3f8-2f62-4f98-f245-b8688a5ccc03"
   },
   "outputs": [
    {
     "output_type": "stream",
     "name": "stdout",
     "text": [
      "Hello Wooden\n",
      "Load data: Begin\n",
      "Load data: End\n"
     ]
    },
    {
     "output_type": "stream",
     "name": "stderr",
     "text": [
      "  0%|          | 101/300000 [00:15<12:30:54,  6.66it/s]"
     ]
    },
    {
     "output_type": "stream",
     "name": "stdout",
     "text": [
      "./exp/thin_cube/womask_sphere\n",
      "iter:100 loss = 0.473030686378479 lr=9.900000000000002e-06\n"
     ]
    },
    {
     "output_type": "stream",
     "name": "stderr",
     "text": [
      "  0%|          | 201/300000 [00:29<12:12:25,  6.82it/s]"
     ]
    },
    {
     "output_type": "stream",
     "name": "stdout",
     "text": [
      "./exp/thin_cube/womask_sphere\n",
      "iter:200 loss = 0.44277748465538025 lr=1.9900000000000003e-05\n"
     ]
    },
    {
     "output_type": "stream",
     "name": "stderr",
     "text": [
      "  0%|          | 301/300000 [00:44<12:08:53,  6.85it/s]"
     ]
    },
    {
     "output_type": "stream",
     "name": "stdout",
     "text": [
      "./exp/thin_cube/womask_sphere\n",
      "iter:300 loss = 0.45870348811149597 lr=2.9900000000000002e-05\n"
     ]
    },
    {
     "output_type": "stream",
     "name": "stderr",
     "text": [
      "  0%|          | 401/300000 [00:59<12:10:31,  6.84it/s]"
     ]
    },
    {
     "output_type": "stream",
     "name": "stdout",
     "text": [
      "./exp/thin_cube/womask_sphere\n",
      "iter:400 loss = 0.41451361775398254 lr=3.99e-05\n"
     ]
    },
    {
     "output_type": "stream",
     "name": "stderr",
     "text": [
      "  0%|          | 501/300000 [01:13<12:08:41,  6.85it/s]"
     ]
    },
    {
     "output_type": "stream",
     "name": "stdout",
     "text": [
      "./exp/thin_cube/womask_sphere\n",
      "iter:500 loss = 0.3888895511627197 lr=4.99e-05\n"
     ]
    },
    {
     "output_type": "stream",
     "name": "stderr",
     "text": [
      "  0%|          | 601/300000 [01:28<12:13:25,  6.80it/s]"
     ]
    },
    {
     "output_type": "stream",
     "name": "stdout",
     "text": [
      "./exp/thin_cube/womask_sphere\n",
      "iter:600 loss = 0.3800267279148102 lr=5.9900000000000006e-05\n"
     ]
    },
    {
     "output_type": "stream",
     "name": "stderr",
     "text": [
      "  0%|          | 701/300000 [01:42<12:06:48,  6.86it/s]"
     ]
    },
    {
     "output_type": "stream",
     "name": "stdout",
     "text": [
      "./exp/thin_cube/womask_sphere\n",
      "iter:700 loss = 0.3508416414260864 lr=6.99e-05\n"
     ]
    },
    {
     "output_type": "stream",
     "name": "stderr",
     "text": [
      "  0%|          | 801/300000 [01:57<12:12:29,  6.81it/s]"
     ]
    },
    {
     "output_type": "stream",
     "name": "stdout",
     "text": [
      "./exp/thin_cube/womask_sphere\n",
      "iter:800 loss = 0.3731671869754791 lr=7.99e-05\n"
     ]
    },
    {
     "output_type": "stream",
     "name": "stderr",
     "text": [
      "  0%|          | 901/300000 [02:12<12:09:16,  6.84it/s]"
     ]
    },
    {
     "output_type": "stream",
     "name": "stdout",
     "text": [
      "./exp/thin_cube/womask_sphere\n",
      "iter:900 loss = 0.3430931568145752 lr=8.989999999999999e-05\n"
     ]
    },
    {
     "output_type": "stream",
     "name": "stderr",
     "text": [
      "  0%|          | 1001/300000 [02:26<12:06:51,  6.86it/s]"
     ]
    },
    {
     "output_type": "stream",
     "name": "stdout",
     "text": [
      "./exp/thin_cube/womask_sphere\n",
      "iter:1000 loss = 0.3585401475429535 lr=9.99e-05\n"
     ]
    },
    {
     "output_type": "stream",
     "name": "stderr",
     "text": [
      "  0%|          | 1101/300000 [02:41<12:06:33,  6.86it/s]"
     ]
    },
    {
     "output_type": "stream",
     "name": "stdout",
     "text": [
      "./exp/thin_cube/womask_sphere\n",
      "iter:1100 loss = 0.39761945605278015 lr=0.0001099\n"
     ]
    },
    {
     "output_type": "stream",
     "name": "stderr",
     "text": [
      "  0%|          | 1201/300000 [02:56<12:17:04,  6.76it/s]"
     ]
    },
    {
     "output_type": "stream",
     "name": "stdout",
     "text": [
      "./exp/thin_cube/womask_sphere\n",
      "iter:1200 loss = 0.3296387195587158 lr=0.00011990000000000001\n"
     ]
    },
    {
     "output_type": "stream",
     "name": "stderr",
     "text": [
      "  0%|          | 1301/300000 [03:10<12:12:45,  6.79it/s]"
     ]
    },
    {
     "output_type": "stream",
     "name": "stdout",
     "text": [
      "./exp/thin_cube/womask_sphere\n",
      "iter:1300 loss = 0.4202369451522827 lr=0.00012989999999999999\n"
     ]
    },
    {
     "output_type": "stream",
     "name": "stderr",
     "text": [
      "  0%|          | 1401/300000 [03:25<12:11:46,  6.80it/s]"
     ]
    },
    {
     "output_type": "stream",
     "name": "stdout",
     "text": [
      "./exp/thin_cube/womask_sphere\n",
      "iter:1400 loss = 0.3407716155052185 lr=0.0001399\n"
     ]
    },
    {
     "output_type": "stream",
     "name": "stderr",
     "text": [
      "  1%|          | 1501/300000 [03:40<12:05:52,  6.85it/s]"
     ]
    },
    {
     "output_type": "stream",
     "name": "stdout",
     "text": [
      "./exp/thin_cube/womask_sphere\n",
      "iter:1500 loss = 0.383100688457489 lr=0.0001499\n"
     ]
    },
    {
     "output_type": "stream",
     "name": "stderr",
     "text": [
      "  1%|          | 1601/300000 [03:54<12:08:54,  6.82it/s]"
     ]
    },
    {
     "output_type": "stream",
     "name": "stdout",
     "text": [
      "./exp/thin_cube/womask_sphere\n",
      "iter:1600 loss = 0.3513718545436859 lr=0.00015989999999999998\n"
     ]
    },
    {
     "output_type": "stream",
     "name": "stderr",
     "text": [
      "  1%|          | 1701/300000 [04:09<12:17:14,  6.74it/s]"
     ]
    },
    {
     "output_type": "stream",
     "name": "stdout",
     "text": [
      "./exp/thin_cube/womask_sphere\n",
      "iter:1700 loss = 0.35558760166168213 lr=0.0001699\n"
     ]
    },
    {
     "output_type": "stream",
     "name": "stderr",
     "text": [
      "  1%|          | 1801/300000 [04:24<12:08:43,  6.82it/s]"
     ]
    },
    {
     "output_type": "stream",
     "name": "stdout",
     "text": [
      "./exp/thin_cube/womask_sphere\n",
      "iter:1800 loss = 0.3108068108558655 lr=0.0001799\n"
     ]
    },
    {
     "output_type": "stream",
     "name": "stderr",
     "text": [
      "  1%|          | 1901/300000 [04:38<12:05:33,  6.85it/s]"
     ]
    },
    {
     "output_type": "stream",
     "name": "stdout",
     "text": [
      "./exp/thin_cube/womask_sphere\n",
      "iter:1900 loss = 0.32870590686798096 lr=0.0001899\n"
     ]
    },
    {
     "output_type": "stream",
     "name": "stderr",
     "text": [
      "  1%|          | 2001/300000 [04:53<12:03:30,  6.86it/s]"
     ]
    },
    {
     "output_type": "stream",
     "name": "stdout",
     "text": [
      "./exp/thin_cube/womask_sphere\n",
      "iter:2000 loss = 0.3068401515483856 lr=0.0001999\n"
     ]
    },
    {
     "output_type": "stream",
     "name": "stderr",
     "text": [
      "  1%|          | 2101/300000 [05:08<12:10:36,  6.80it/s]"
     ]
    },
    {
     "output_type": "stream",
     "name": "stdout",
     "text": [
      "./exp/thin_cube/womask_sphere\n",
      "iter:2100 loss = 0.3274766504764557 lr=0.0002099\n"
     ]
    },
    {
     "output_type": "stream",
     "name": "stderr",
     "text": [
      "  1%|          | 2201/300000 [05:22<12:04:51,  6.85it/s]"
     ]
    },
    {
     "output_type": "stream",
     "name": "stdout",
     "text": [
      "./exp/thin_cube/womask_sphere\n",
      "iter:2200 loss = 0.2964421212673187 lr=0.0002199\n"
     ]
    },
    {
     "output_type": "stream",
     "name": "stderr",
     "text": [
      "  1%|          | 2301/300000 [05:37<12:14:17,  6.76it/s]"
     ]
    },
    {
     "output_type": "stream",
     "name": "stdout",
     "text": [
      "./exp/thin_cube/womask_sphere\n",
      "iter:2300 loss = 0.3500042259693146 lr=0.0002299\n"
     ]
    },
    {
     "output_type": "stream",
     "name": "stderr",
     "text": [
      "  1%|          | 2401/300000 [05:52<12:07:59,  6.81it/s]"
     ]
    },
    {
     "output_type": "stream",
     "name": "stdout",
     "text": [
      "./exp/thin_cube/womask_sphere\n",
      "iter:2400 loss = 0.3249565064907074 lr=0.0002399\n"
     ]
    },
    {
     "output_type": "stream",
     "name": "stderr",
     "text": [
      "  1%|          | 2499/300000 [06:06<12:00:00,  6.89it/s]/usr/local/lib/python3.10/dist-packages/torch/functional.py:504: UserWarning: torch.meshgrid: in an upcoming release, it will be required to pass the indexing argument. (Triggered internally at ../aten/src/ATen/native/TensorShape.cpp:3483.)\n",
      "  return _VF.meshgrid(tensors, **kwargs)  # type: ignore[attr-defined]\n"
     ]
    },
    {
     "output_type": "stream",
     "name": "stdout",
     "text": [
      "./exp/thin_cube/womask_sphere\n",
      "iter:2500 loss = 0.32814928889274597 lr=0.0002499\n",
      "Validate: iter: 2500, camera: 9\n"
     ]
    },
    {
     "output_type": "stream",
     "name": "stderr",
     "text": [
      "  1%|          | 2601/300000 [06:42<11:58:32,  6.90it/s]"
     ]
    },
    {
     "output_type": "stream",
     "name": "stdout",
     "text": [
      "./exp/thin_cube/womask_sphere\n",
      "iter:2600 loss = 0.3272797167301178 lr=0.00025990000000000003\n"
     ]
    },
    {
     "output_type": "stream",
     "name": "stderr",
     "text": [
      "  1%|          | 2701/300000 [06:56<11:59:55,  6.88it/s]"
     ]
    },
    {
     "output_type": "stream",
     "name": "stdout",
     "text": [
      "./exp/thin_cube/womask_sphere\n",
      "iter:2700 loss = 0.3150781989097595 lr=0.0002699\n"
     ]
    },
    {
     "output_type": "stream",
     "name": "stderr",
     "text": [
      "  1%|          | 2801/300000 [07:11<12:02:24,  6.86it/s]"
     ]
    },
    {
     "output_type": "stream",
     "name": "stdout",
     "text": [
      "./exp/thin_cube/womask_sphere\n",
      "iter:2800 loss = 0.3186146914958954 lr=0.0002799\n"
     ]
    },
    {
     "output_type": "stream",
     "name": "stderr",
     "text": [
      "  1%|          | 2901/300000 [07:25<12:01:33,  6.86it/s]"
     ]
    },
    {
     "output_type": "stream",
     "name": "stdout",
     "text": [
      "./exp/thin_cube/womask_sphere\n",
      "iter:2900 loss = 0.3385782539844513 lr=0.0002899\n"
     ]
    },
    {
     "output_type": "stream",
     "name": "stderr",
     "text": [
      "  1%|          | 3001/300000 [07:40<12:08:03,  6.80it/s]"
     ]
    },
    {
     "output_type": "stream",
     "name": "stdout",
     "text": [
      "./exp/thin_cube/womask_sphere\n",
      "iter:3000 loss = 0.3120386600494385 lr=0.0002999\n"
     ]
    },
    {
     "output_type": "stream",
     "name": "stderr",
     "text": [
      "  1%|          | 3101/300000 [07:55<11:59:33,  6.88it/s]"
     ]
    },
    {
     "output_type": "stream",
     "name": "stdout",
     "text": [
      "./exp/thin_cube/womask_sphere\n",
      "iter:3100 loss = 0.31068238615989685 lr=0.0003099\n"
     ]
    },
    {
     "output_type": "stream",
     "name": "stderr",
     "text": [
      "  1%|          | 3201/300000 [08:09<11:55:57,  6.91it/s]"
     ]
    },
    {
     "output_type": "stream",
     "name": "stdout",
     "text": [
      "./exp/thin_cube/womask_sphere\n",
      "iter:3200 loss = 0.308401882648468 lr=0.0003199\n"
     ]
    },
    {
     "output_type": "stream",
     "name": "stderr",
     "text": [
      "  1%|          | 3301/300000 [08:24<12:00:31,  6.86it/s]"
     ]
    },
    {
     "output_type": "stream",
     "name": "stdout",
     "text": [
      "./exp/thin_cube/womask_sphere\n",
      "iter:3300 loss = 0.3082277774810791 lr=0.00032990000000000005\n"
     ]
    },
    {
     "output_type": "stream",
     "name": "stderr",
     "text": [
      "  1%|          | 3401/300000 [08:38<11:56:12,  6.90it/s]"
     ]
    },
    {
     "output_type": "stream",
     "name": "stdout",
     "text": [
      "./exp/thin_cube/womask_sphere\n",
      "iter:3400 loss = 0.32680317759513855 lr=0.00033989999999999997\n"
     ]
    },
    {
     "output_type": "stream",
     "name": "stderr",
     "text": [
      "  1%|          | 3501/300000 [08:53<12:04:52,  6.82it/s]"
     ]
    },
    {
     "output_type": "stream",
     "name": "stdout",
     "text": [
      "./exp/thin_cube/womask_sphere\n",
      "iter:3500 loss = 0.2922966480255127 lr=0.0003499\n"
     ]
    },
    {
     "output_type": "stream",
     "name": "stderr",
     "text": [
      "  1%|          | 3601/300000 [09:07<12:07:23,  6.79it/s]"
     ]
    },
    {
     "output_type": "stream",
     "name": "stdout",
     "text": [
      "./exp/thin_cube/womask_sphere\n",
      "iter:3600 loss = 0.30605804920196533 lr=0.0003599\n"
     ]
    },
    {
     "output_type": "stream",
     "name": "stderr",
     "text": [
      "  1%|          | 3701/300000 [09:22<12:01:06,  6.85it/s]"
     ]
    },
    {
     "output_type": "stream",
     "name": "stdout",
     "text": [
      "./exp/thin_cube/womask_sphere\n",
      "iter:3700 loss = 0.2837812602519989 lr=0.0003699\n"
     ]
    },
    {
     "output_type": "stream",
     "name": "stderr",
     "text": [
      "  1%|▏         | 3801/300000 [09:37<11:57:33,  6.88it/s]"
     ]
    },
    {
     "output_type": "stream",
     "name": "stdout",
     "text": [
      "./exp/thin_cube/womask_sphere\n",
      "iter:3800 loss = 0.30109214782714844 lr=0.0003799\n"
     ]
    },
    {
     "output_type": "stream",
     "name": "stderr",
     "text": [
      "  1%|▏         | 3901/300000 [09:51<11:54:23,  6.91it/s]"
     ]
    },
    {
     "output_type": "stream",
     "name": "stdout",
     "text": [
      "./exp/thin_cube/womask_sphere\n",
      "iter:3900 loss = 0.33222681283950806 lr=0.00038990000000000004\n"
     ]
    },
    {
     "output_type": "stream",
     "name": "stderr",
     "text": [
      "  1%|▏         | 4001/300000 [10:06<11:51:00,  6.94it/s]"
     ]
    },
    {
     "output_type": "stream",
     "name": "stdout",
     "text": [
      "./exp/thin_cube/womask_sphere\n",
      "iter:4000 loss = 0.29888778924942017 lr=0.00039989999999999996\n"
     ]
    },
    {
     "output_type": "stream",
     "name": "stderr",
     "text": [
      "  1%|▏         | 4101/300000 [10:20<11:58:12,  6.87it/s]"
     ]
    },
    {
     "output_type": "stream",
     "name": "stdout",
     "text": [
      "./exp/thin_cube/womask_sphere\n",
      "iter:4100 loss = 0.305519700050354 lr=0.0004099\n"
     ]
    },
    {
     "output_type": "stream",
     "name": "stderr",
     "text": [
      "  1%|▏         | 4201/300000 [10:35<12:08:07,  6.77it/s]"
     ]
    },
    {
     "output_type": "stream",
     "name": "stdout",
     "text": [
      "./exp/thin_cube/womask_sphere\n",
      "iter:4200 loss = 0.27584218978881836 lr=0.0004199\n"
     ]
    },
    {
     "output_type": "stream",
     "name": "stderr",
     "text": [
      "  1%|▏         | 4301/300000 [10:49<11:55:30,  6.89it/s]"
     ]
    },
    {
     "output_type": "stream",
     "name": "stdout",
     "text": [
      "./exp/thin_cube/womask_sphere\n",
      "iter:4300 loss = 0.2960745692253113 lr=0.0004299\n"
     ]
    },
    {
     "output_type": "stream",
     "name": "stderr",
     "text": [
      "  1%|▏         | 4401/300000 [11:04<12:04:46,  6.80it/s]"
     ]
    },
    {
     "output_type": "stream",
     "name": "stdout",
     "text": [
      "./exp/thin_cube/womask_sphere\n",
      "iter:4400 loss = 0.3094158470630646 lr=0.0004399\n"
     ]
    },
    {
     "output_type": "stream",
     "name": "stderr",
     "text": [
      "  2%|▏         | 4501/300000 [11:19<12:06:12,  6.78it/s]"
     ]
    },
    {
     "output_type": "stream",
     "name": "stdout",
     "text": [
      "./exp/thin_cube/womask_sphere\n",
      "iter:4500 loss = 0.2904023230075836 lr=0.00044990000000000004\n"
     ]
    },
    {
     "output_type": "stream",
     "name": "stderr",
     "text": [
      "  2%|▏         | 4601/300000 [11:33<11:57:13,  6.86it/s]"
     ]
    },
    {
     "output_type": "stream",
     "name": "stdout",
     "text": [
      "./exp/thin_cube/womask_sphere\n",
      "iter:4600 loss = 0.3058602511882782 lr=0.0004599\n"
     ]
    },
    {
     "output_type": "stream",
     "name": "stderr",
     "text": [
      "  2%|▏         | 4701/300000 [11:48<12:11:34,  6.73it/s]"
     ]
    },
    {
     "output_type": "stream",
     "name": "stdout",
     "text": [
      "./exp/thin_cube/womask_sphere\n",
      "iter:4700 loss = 0.27654749155044556 lr=0.0004699\n"
     ]
    },
    {
     "output_type": "stream",
     "name": "stderr",
     "text": [
      "  2%|▏         | 4801/300000 [12:02<12:01:15,  6.82it/s]"
     ]
    },
    {
     "output_type": "stream",
     "name": "stdout",
     "text": [
      "./exp/thin_cube/womask_sphere\n",
      "iter:4800 loss = 0.2788170874118805 lr=0.0004799\n"
     ]
    },
    {
     "output_type": "stream",
     "name": "stderr",
     "text": [
      "  2%|▏         | 4901/300000 [12:17<11:57:17,  6.86it/s]"
     ]
    },
    {
     "output_type": "stream",
     "name": "stdout",
     "text": [
      "./exp/thin_cube/womask_sphere\n",
      "iter:4900 loss = 0.2764856815338135 lr=0.0004899\n"
     ]
    },
    {
     "output_type": "stream",
     "name": "stderr",
     "text": [
      "  2%|▏         | 4999/300000 [12:31<11:53:09,  6.89it/s]"
     ]
    },
    {
     "output_type": "stream",
     "name": "stdout",
     "text": [
      "./exp/thin_cube/womask_sphere\n",
      "iter:5000 loss = 0.2692265808582306 lr=0.0004999000000000001\n",
      "Validate: iter: 5000, camera: 14\n"
     ]
    },
    {
     "output_type": "stream",
     "name": "stderr",
     "text": [
      "\r  2%|▏         | 5000/300000 [12:52<523:08:47,  6.38s/it]"
     ]
    },
    {
     "output_type": "stream",
     "name": "stdout",
     "text": [
      "threshold: 0.0\n"
     ]
    },
    {
     "output_type": "stream",
     "name": "stderr",
     "text": [
      "  2%|▏         | 5101/300000 [13:07<11:53:01,  6.89it/s]"
     ]
    },
    {
     "output_type": "stream",
     "name": "stdout",
     "text": [
      "./exp/thin_cube/womask_sphere\n",
      "iter:5100 loss = 0.28035807609558105 lr=0.0004999998680043313\n"
     ]
    },
    {
     "output_type": "stream",
     "name": "stderr",
     "text": [
      "  2%|▏         | 5201/300000 [13:21<11:53:24,  6.89it/s]"
     ]
    },
    {
     "output_type": "stream",
     "name": "stdout",
     "text": [
      "./exp/thin_cube/womask_sphere\n",
      "iter:5200 loss = 0.2894737124443054 lr=0.0004999994666708493\n"
     ]
    },
    {
     "output_type": "stream",
     "name": "stderr",
     "text": [
      "  2%|▏         | 5301/300000 [13:36<11:56:43,  6.85it/s]"
     ]
    },
    {
     "output_type": "stream",
     "name": "stdout",
     "text": [
      "./exp/thin_cube/womask_sphere\n",
      "iter:5300 loss = 0.3129953145980835 lr=0.0004999987959865417\n"
     ]
    },
    {
     "output_type": "stream",
     "name": "stderr",
     "text": [
      "  2%|▏         | 5401/300000 [13:51<11:50:29,  6.91it/s]"
     ]
    },
    {
     "output_type": "stream",
     "name": "stdout",
     "text": [
      "./exp/thin_cube/womask_sphere\n",
      "iter:5400 loss = 0.3145816922187805 lr=0.0004999978559521691\n"
     ]
    },
    {
     "output_type": "stream",
     "name": "stderr",
     "text": [
      "  2%|▏         | 5501/300000 [14:05<12:00:06,  6.82it/s]"
     ]
    },
    {
     "output_type": "stream",
     "name": "stdout",
     "text": [
      "./exp/thin_cube/womask_sphere\n",
      "iter:5500 loss = 0.28667113184928894 lr=0.0004999966465687977\n"
     ]
    },
    {
     "output_type": "stream",
     "name": "stderr",
     "text": [
      "  2%|▏         | 5601/300000 [14:20<11:57:30,  6.84it/s]"
     ]
    },
    {
     "output_type": "stream",
     "name": "stdout",
     "text": [
      "./exp/thin_cube/womask_sphere\n",
      "iter:5600 loss = 0.2950439453125 lr=0.0004999951678377989\n"
     ]
    },
    {
     "output_type": "stream",
     "name": "stderr",
     "text": [
      "  2%|▏         | 5701/300000 [14:34<11:55:56,  6.85it/s]"
     ]
    },
    {
     "output_type": "stream",
     "name": "stdout",
     "text": [
      "./exp/thin_cube/womask_sphere\n",
      "iter:5700 loss = 0.2720543444156647 lr=0.0004999934197608499\n"
     ]
    },
    {
     "output_type": "stream",
     "name": "stderr",
     "text": [
      "  2%|▏         | 5801/300000 [14:49<11:51:25,  6.89it/s]"
     ]
    },
    {
     "output_type": "stream",
     "name": "stdout",
     "text": [
      "./exp/thin_cube/womask_sphere\n",
      "iter:5800 loss = 0.28588154911994934 lr=0.000499991402339933\n"
     ]
    },
    {
     "output_type": "stream",
     "name": "stderr",
     "text": [
      "  2%|▏         | 5901/300000 [15:03<11:53:58,  6.87it/s]"
     ]
    },
    {
     "output_type": "stream",
     "name": "stdout",
     "text": [
      "./exp/thin_cube/womask_sphere\n",
      "iter:5900 loss = 0.2871911823749542 lr=0.0004999891155773365\n"
     ]
    },
    {
     "output_type": "stream",
     "name": "stderr",
     "text": [
      "  2%|▏         | 6001/300000 [15:18<11:58:25,  6.82it/s]"
     ]
    },
    {
     "output_type": "stream",
     "name": "stdout",
     "text": [
      "./exp/thin_cube/womask_sphere\n",
      "iter:6000 loss = 0.2946661412715912 lr=0.0004999865594756535\n"
     ]
    },
    {
     "output_type": "stream",
     "name": "stderr",
     "text": [
      "  2%|▏         | 6101/300000 [15:33<11:55:01,  6.85it/s]"
     ]
    },
    {
     "output_type": "stream",
     "name": "stdout",
     "text": [
      "./exp/thin_cube/womask_sphere\n",
      "iter:6100 loss = 0.2786683440208435 lr=0.0004999837340377832\n"
     ]
    },
    {
     "output_type": "stream",
     "name": "stderr",
     "text": [
      "  2%|▏         | 6201/300000 [15:47<11:47:46,  6.92it/s]"
     ]
    },
    {
     "output_type": "stream",
     "name": "stdout",
     "text": [
      "./exp/thin_cube/womask_sphere\n",
      "iter:6200 loss = 0.2885558307170868 lr=0.0004999806392669299\n"
     ]
    },
    {
     "output_type": "stream",
     "name": "stderr",
     "text": [
      "  2%|▏         | 6301/300000 [16:02<11:53:47,  6.86it/s]"
     ]
    },
    {
     "output_type": "stream",
     "name": "stdout",
     "text": [
      "./exp/thin_cube/womask_sphere\n",
      "iter:6300 loss = 0.276054322719574 lr=0.0004999772751666032\n"
     ]
    },
    {
     "output_type": "stream",
     "name": "stderr",
     "text": [
      "  2%|▏         | 6401/300000 [16:16<11:51:14,  6.88it/s]"
     ]
    },
    {
     "output_type": "stream",
     "name": "stdout",
     "text": [
      "./exp/thin_cube/womask_sphere\n",
      "iter:6400 loss = 0.2803701162338257 lr=0.0004999736417406186\n"
     ]
    },
    {
     "output_type": "stream",
     "name": "stderr",
     "text": [
      "  2%|▏         | 6501/300000 [16:31<11:49:59,  6.89it/s]"
     ]
    },
    {
     "output_type": "stream",
     "name": "stdout",
     "text": [
      "./exp/thin_cube/womask_sphere\n",
      "iter:6500 loss = 0.2774476706981659 lr=0.0004999697389930967\n"
     ]
    },
    {
     "output_type": "stream",
     "name": "stderr",
     "text": [
      "  2%|▏         | 6601/300000 [16:45<11:54:57,  6.84it/s]"
     ]
    },
    {
     "output_type": "stream",
     "name": "stdout",
     "text": [
      "./exp/thin_cube/womask_sphere\n",
      "iter:6600 loss = 0.2749713659286499 lr=0.0004999655669284637\n"
     ]
    },
    {
     "output_type": "stream",
     "name": "stderr",
     "text": [
      "  2%|▏         | 6701/300000 [17:00<11:55:30,  6.83it/s]"
     ]
    },
    {
     "output_type": "stream",
     "name": "stdout",
     "text": [
      "./exp/thin_cube/womask_sphere\n",
      "iter:6700 loss = 0.28963449597358704 lr=0.0004999611255514511\n"
     ]
    },
    {
     "output_type": "stream",
     "name": "stderr",
     "text": [
      "  2%|▏         | 6801/300000 [17:15<12:01:37,  6.77it/s]"
     ]
    },
    {
     "output_type": "stream",
     "name": "stdout",
     "text": [
      "./exp/thin_cube/womask_sphere\n",
      "iter:6800 loss = 0.28809449076652527 lr=0.0004999564148670959\n"
     ]
    },
    {
     "output_type": "stream",
     "name": "stderr",
     "text": [
      "  2%|▏         | 6901/300000 [17:29<11:51:02,  6.87it/s]"
     ]
    },
    {
     "output_type": "stream",
     "name": "stdout",
     "text": [
      "./exp/thin_cube/womask_sphere\n",
      "iter:6900 loss = 0.2901133596897125 lr=0.0004999514348807408\n"
     ]
    },
    {
     "output_type": "stream",
     "name": "stderr",
     "text": [
      "  2%|▏         | 7001/300000 [17:44<12:00:19,  6.78it/s]"
     ]
    },
    {
     "output_type": "stream",
     "name": "stdout",
     "text": [
      "./exp/thin_cube/womask_sphere\n",
      "iter:7000 loss = 0.2825080156326294 lr=0.0004999461855980334\n"
     ]
    },
    {
     "output_type": "stream",
     "name": "stderr",
     "text": [
      "  2%|▏         | 7101/300000 [17:58<11:47:31,  6.90it/s]"
     ]
    },
    {
     "output_type": "stream",
     "name": "stdout",
     "text": [
      "./exp/thin_cube/womask_sphere\n",
      "iter:7100 loss = 0.28585514426231384 lr=0.000499940667024927\n"
     ]
    },
    {
     "output_type": "stream",
     "name": "stderr",
     "text": [
      "  2%|▏         | 7201/300000 [18:13<11:57:03,  6.81it/s]"
     ]
    },
    {
     "output_type": "stream",
     "name": "stdout",
     "text": [
      "./exp/thin_cube/womask_sphere\n",
      "iter:7200 loss = 0.2422293722629547 lr=0.0004999348791676803\n"
     ]
    },
    {
     "output_type": "stream",
     "name": "stderr",
     "text": [
      "  2%|▏         | 7301/300000 [18:28<11:49:08,  6.88it/s]"
     ]
    },
    {
     "output_type": "stream",
     "name": "stdout",
     "text": [
      "./exp/thin_cube/womask_sphere\n",
      "iter:7300 loss = 0.26336103677749634 lr=0.0004999288220328575\n"
     ]
    },
    {
     "output_type": "stream",
     "name": "stderr",
     "text": [
      "  2%|▏         | 7401/300000 [18:42<11:44:54,  6.92it/s]"
     ]
    },
    {
     "output_type": "stream",
     "name": "stdout",
     "text": [
      "./exp/thin_cube/womask_sphere\n",
      "iter:7400 loss = 0.2643810510635376 lr=0.0004999224956273279\n"
     ]
    },
    {
     "output_type": "stream",
     "name": "stderr",
     "text": [
      "  2%|▏         | 7499/300000 [18:56<11:49:56,  6.87it/s]"
     ]
    },
    {
     "output_type": "stream",
     "name": "stdout",
     "text": [
      "./exp/thin_cube/womask_sphere\n",
      "iter:7500 loss = 0.2485676407814026 lr=0.0004999158999582664\n",
      "Validate: iter: 7500, camera: 2\n"
     ]
    },
    {
     "output_type": "stream",
     "name": "stderr",
     "text": [
      "  3%|▎         | 7601/300000 [19:32<11:52:36,  6.84it/s]"
     ]
    },
    {
     "output_type": "stream",
     "name": "stdout",
     "text": [
      "./exp/thin_cube/womask_sphere\n",
      "iter:7600 loss = 0.24491764605045319 lr=0.0004999090350331532\n"
     ]
    },
    {
     "output_type": "stream",
     "name": "stderr",
     "text": [
      "  3%|▎         | 7701/300000 [19:47<11:57:07,  6.79it/s]"
     ]
    },
    {
     "output_type": "stream",
     "name": "stdout",
     "text": [
      "./exp/thin_cube/womask_sphere\n",
      "iter:7700 loss = 0.2587372362613678 lr=0.000499901900859774\n"
     ]
    },
    {
     "output_type": "stream",
     "name": "stderr",
     "text": [
      "  3%|▎         | 7801/300000 [20:02<11:55:53,  6.80it/s]"
     ]
    },
    {
     "output_type": "stream",
     "name": "stdout",
     "text": [
      "./exp/thin_cube/womask_sphere\n",
      "iter:7800 loss = 0.2957458198070526 lr=0.0004998944974462196\n"
     ]
    },
    {
     "output_type": "stream",
     "name": "stderr",
     "text": [
      "  3%|▎         | 7901/300000 [20:17<11:46:03,  6.90it/s]"
     ]
    },
    {
     "output_type": "stream",
     "name": "stdout",
     "text": [
      "./exp/thin_cube/womask_sphere\n",
      "iter:7900 loss = 0.25411534309387207 lr=0.0004998868248008864\n"
     ]
    },
    {
     "output_type": "stream",
     "name": "stderr",
     "text": [
      "  3%|▎         | 8001/300000 [20:31<12:11:33,  6.65it/s]"
     ]
    },
    {
     "output_type": "stream",
     "name": "stdout",
     "text": [
      "./exp/thin_cube/womask_sphere\n",
      "iter:8000 loss = 0.25434672832489014 lr=0.0004998788829324759\n"
     ]
    },
    {
     "output_type": "stream",
     "name": "stderr",
     "text": [
      "  3%|▎         | 8101/300000 [20:46<11:50:42,  6.85it/s]"
     ]
    },
    {
     "output_type": "stream",
     "name": "stdout",
     "text": [
      "./exp/thin_cube/womask_sphere\n",
      "iter:8100 loss = 0.2537597119808197 lr=0.0004998706718499953\n"
     ]
    },
    {
     "output_type": "stream",
     "name": "stderr",
     "text": [
      "  3%|▎         | 8201/300000 [21:01<11:47:20,  6.88it/s]"
     ]
    },
    {
     "output_type": "stream",
     "name": "stdout",
     "text": [
      "./exp/thin_cube/womask_sphere\n",
      "iter:8200 loss = 0.2682303786277771 lr=0.0004998621915627567\n"
     ]
    },
    {
     "output_type": "stream",
     "name": "stderr",
     "text": [
      "  3%|▎         | 8301/300000 [21:15<11:51:02,  6.84it/s]"
     ]
    },
    {
     "output_type": "stream",
     "name": "stdout",
     "text": [
      "./exp/thin_cube/womask_sphere\n",
      "iter:8300 loss = 0.25257015228271484 lr=0.0004998534420803776\n"
     ]
    },
    {
     "output_type": "stream",
     "name": "stderr",
     "text": [
      "  3%|▎         | 8401/300000 [21:30<11:52:20,  6.82it/s]"
     ]
    },
    {
     "output_type": "stream",
     "name": "stdout",
     "text": [
      "./exp/thin_cube/womask_sphere\n",
      "iter:8400 loss = 0.2559325098991394 lr=0.0004998444234127811\n"
     ]
    },
    {
     "output_type": "stream",
     "name": "stderr",
     "text": [
      "  3%|▎         | 8501/300000 [21:44<11:55:04,  6.79it/s]"
     ]
    },
    {
     "output_type": "stream",
     "name": "stdout",
     "text": [
      "./exp/thin_cube/womask_sphere\n",
      "iter:8500 loss = 0.23721745610237122 lr=0.0004998351355701954\n"
     ]
    },
    {
     "output_type": "stream",
     "name": "stderr",
     "text": [
      "  3%|▎         | 8601/300000 [21:59<12:05:04,  6.70it/s]"
     ]
    },
    {
     "output_type": "stream",
     "name": "stdout",
     "text": [
      "./exp/thin_cube/womask_sphere\n",
      "iter:8600 loss = 0.29174304008483887 lr=0.0004998255785631537\n"
     ]
    },
    {
     "output_type": "stream",
     "name": "stderr",
     "text": [
      "  3%|▎         | 8701/300000 [22:14<11:57:35,  6.77it/s]"
     ]
    },
    {
     "output_type": "stream",
     "name": "stdout",
     "text": [
      "./exp/thin_cube/womask_sphere\n",
      "iter:8700 loss = 0.2339855432510376 lr=0.0004998157524024949\n"
     ]
    },
    {
     "output_type": "stream",
     "name": "stderr",
     "text": [
      "  3%|▎         | 8801/300000 [22:29<11:56:37,  6.77it/s]"
     ]
    },
    {
     "output_type": "stream",
     "name": "stdout",
     "text": [
      "./exp/thin_cube/womask_sphere\n",
      "iter:8800 loss = 0.24830898642539978 lr=0.0004998056570993629\n"
     ]
    },
    {
     "output_type": "stream",
     "name": "stderr",
     "text": [
      "  3%|▎         | 8901/300000 [22:43<11:45:47,  6.87it/s]"
     ]
    },
    {
     "output_type": "stream",
     "name": "stdout",
     "text": [
      "./exp/thin_cube/womask_sphere\n",
      "iter:8900 loss = 0.2604183256626129 lr=0.0004997952926652069\n"
     ]
    },
    {
     "output_type": "stream",
     "name": "stderr",
     "text": [
      "  3%|▎         | 9001/300000 [22:58<11:49:23,  6.84it/s]"
     ]
    },
    {
     "output_type": "stream",
     "name": "stdout",
     "text": [
      "./exp/thin_cube/womask_sphere\n",
      "iter:9000 loss = 0.25283053517341614 lr=0.0004997846591117812\n"
     ]
    },
    {
     "output_type": "stream",
     "name": "stderr",
     "text": [
      "  3%|▎         | 9101/300000 [23:13<11:51:58,  6.81it/s]"
     ]
    },
    {
     "output_type": "stream",
     "name": "stdout",
     "text": [
      "./exp/thin_cube/womask_sphere\n",
      "iter:9100 loss = 0.2499668300151825 lr=0.0004997737564511457\n"
     ]
    },
    {
     "output_type": "stream",
     "name": "stderr",
     "text": [
      "  3%|▎         | 9201/300000 [23:27<11:49:41,  6.83it/s]"
     ]
    },
    {
     "output_type": "stream",
     "name": "stdout",
     "text": [
      "./exp/thin_cube/womask_sphere\n",
      "iter:9200 loss = 0.2351987063884735 lr=0.0004997625846956649\n"
     ]
    },
    {
     "output_type": "stream",
     "name": "stderr",
     "text": [
      "  3%|▎         | 9301/300000 [23:42<11:46:37,  6.86it/s]"
     ]
    },
    {
     "output_type": "stream",
     "name": "stdout",
     "text": [
      "./exp/thin_cube/womask_sphere\n",
      "iter:9300 loss = 0.24118821322917938 lr=0.0004997511438580092\n"
     ]
    },
    {
     "output_type": "stream",
     "name": "stderr",
     "text": [
      "  3%|▎         | 9401/300000 [23:57<11:49:07,  6.83it/s]"
     ]
    },
    {
     "output_type": "stream",
     "name": "stdout",
     "text": [
      "./exp/thin_cube/womask_sphere\n",
      "iter:9400 loss = 0.2503055930137634 lr=0.0004997394339511535\n"
     ]
    },
    {
     "output_type": "stream",
     "name": "stderr",
     "text": [
      "  3%|▎         | 9501/300000 [24:11<11:44:37,  6.87it/s]"
     ]
    },
    {
     "output_type": "stream",
     "name": "stdout",
     "text": [
      "./exp/thin_cube/womask_sphere\n",
      "iter:9500 loss = 0.25577327609062195 lr=0.0004997274549883783\n"
     ]
    },
    {
     "output_type": "stream",
     "name": "stderr",
     "text": [
      "  3%|▎         | 9601/300000 [24:26<11:45:47,  6.86it/s]"
     ]
    },
    {
     "output_type": "stream",
     "name": "stdout",
     "text": [
      "./exp/thin_cube/womask_sphere\n",
      "iter:9600 loss = 0.24840134382247925 lr=0.0004997152069832689\n"
     ]
    },
    {
     "output_type": "stream",
     "name": "stderr",
     "text": [
      "  3%|▎         | 9701/300000 [24:41<12:08:53,  6.64it/s]"
     ]
    },
    {
     "output_type": "stream",
     "name": "stdout",
     "text": [
      "./exp/thin_cube/womask_sphere\n",
      "iter:9700 loss = 0.2314564287662506 lr=0.000499702689949716\n"
     ]
    },
    {
     "output_type": "stream",
     "name": "stderr",
     "text": [
      "  3%|▎         | 9801/300000 [24:55<11:41:17,  6.90it/s]"
     ]
    },
    {
     "output_type": "stream",
     "name": "stdout",
     "text": [
      "./exp/thin_cube/womask_sphere\n",
      "iter:9800 loss = 0.22390219569206238 lr=0.0004996899039019153\n"
     ]
    },
    {
     "output_type": "stream",
     "name": "stderr",
     "text": [
      "  3%|▎         | 9901/300000 [25:10<11:47:25,  6.83it/s]"
     ]
    },
    {
     "output_type": "stream",
     "name": "stdout",
     "text": [
      "./exp/thin_cube/womask_sphere\n",
      "iter:9900 loss = 0.23094183206558228 lr=0.0004996768488543678\n"
     ]
    },
    {
     "output_type": "stream",
     "name": "stderr",
     "text": [
      "  3%|▎         | 9999/300000 [25:24<11:49:59,  6.81it/s]"
     ]
    },
    {
     "output_type": "stream",
     "name": "stdout",
     "text": [
      "./exp/thin_cube/womask_sphere\n",
      "iter:10000 loss = 0.22797274589538574 lr=0.000499663524821879\n",
      "Validate: iter: 10000, camera: 8\n"
     ]
    },
    {
     "output_type": "stream",
     "name": "stderr",
     "text": [
      "  3%|▎         | 10001/300000 [25:46<370:38:29,  4.60s/it]"
     ]
    },
    {
     "output_type": "stream",
     "name": "stdout",
     "text": [
      "threshold: 0.0\n"
     ]
    },
    {
     "output_type": "stream",
     "name": "stderr",
     "text": [
      "  3%|▎         | 10101/300000 [26:01<11:53:03,  6.78it/s]"
     ]
    },
    {
     "output_type": "stream",
     "name": "stdout",
     "text": [
      "./exp/thin_cube/womask_sphere\n",
      "iter:10100 loss = 0.2418380230665207 lr=0.00049964993181956\n"
     ]
    },
    {
     "output_type": "stream",
     "name": "stderr",
     "text": [
      "  3%|▎         | 10201/300000 [26:15<11:48:36,  6.82it/s]"
     ]
    },
    {
     "output_type": "stream",
     "name": "stdout",
     "text": [
      "./exp/thin_cube/womask_sphere\n",
      "iter:10200 loss = 0.24652011692523956 lr=0.0004996360698628268\n"
     ]
    },
    {
     "output_type": "stream",
     "name": "stderr",
     "text": [
      "  3%|▎         | 10301/300000 [26:30<11:54:44,  6.76it/s]"
     ]
    },
    {
     "output_type": "stream",
     "name": "stdout",
     "text": [
      "./exp/thin_cube/womask_sphere\n",
      "iter:10300 loss = 0.2233438789844513 lr=0.0004996219389674005\n"
     ]
    },
    {
     "output_type": "stream",
     "name": "stderr",
     "text": [
      "  3%|▎         | 10401/300000 [26:45<11:53:57,  6.76it/s]"
     ]
    },
    {
     "output_type": "stream",
     "name": "stdout",
     "text": [
      "./exp/thin_cube/womask_sphere\n",
      "iter:10400 loss = 0.20934997498989105 lr=0.0004996075391493069\n"
     ]
    },
    {
     "output_type": "stream",
     "name": "stderr",
     "text": [
      "  4%|▎         | 10501/300000 [26:59<11:52:31,  6.77it/s]"
     ]
    },
    {
     "output_type": "stream",
     "name": "stdout",
     "text": [
      "./exp/thin_cube/womask_sphere\n",
      "iter:10500 loss = 0.22270478308200836 lr=0.0004995928704248772\n"
     ]
    },
    {
     "output_type": "stream",
     "name": "stderr",
     "text": [
      "  4%|▎         | 10601/300000 [27:14<11:54:37,  6.75it/s]"
     ]
    },
    {
     "output_type": "stream",
     "name": "stdout",
     "text": [
      "./exp/thin_cube/womask_sphere\n",
      "iter:10600 loss = 0.20701591670513153 lr=0.0004995779328107472\n"
     ]
    },
    {
     "output_type": "stream",
     "name": "stderr",
     "text": [
      "  4%|▎         | 10701/300000 [27:29<11:49:43,  6.79it/s]"
     ]
    },
    {
     "output_type": "stream",
     "name": "stdout",
     "text": [
      "./exp/thin_cube/womask_sphere\n",
      "iter:10700 loss = 0.21485424041748047 lr=0.000499562726323858\n"
     ]
    },
    {
     "output_type": "stream",
     "name": "stderr",
     "text": [
      "  4%|▎         | 10801/300000 [27:44<11:53:48,  6.75it/s]"
     ]
    },
    {
     "output_type": "stream",
     "name": "stdout",
     "text": [
      "./exp/thin_cube/womask_sphere\n",
      "iter:10800 loss = 0.1899299919605255 lr=0.0004995472509814552\n"
     ]
    },
    {
     "output_type": "stream",
     "name": "stderr",
     "text": [
      "  4%|▎         | 10901/300000 [27:59<11:45:14,  6.83it/s]"
     ]
    },
    {
     "output_type": "stream",
     "name": "stdout",
     "text": [
      "./exp/thin_cube/womask_sphere\n",
      "iter:10900 loss = 0.21940410137176514 lr=0.0004995315068010897\n"
     ]
    },
    {
     "output_type": "stream",
     "name": "stderr",
     "text": [
      "  4%|▎         | 11001/300000 [28:13<11:56:28,  6.72it/s]"
     ]
    },
    {
     "output_type": "stream",
     "name": "stdout",
     "text": [
      "./exp/thin_cube/womask_sphere\n",
      "iter:11000 loss = 0.1967284381389618 lr=0.0004995154938006172\n"
     ]
    },
    {
     "output_type": "stream",
     "name": "stderr",
     "text": [
      "  4%|▎         | 11101/300000 [28:28<11:43:21,  6.85it/s]"
     ]
    },
    {
     "output_type": "stream",
     "name": "stdout",
     "text": [
      "./exp/thin_cube/womask_sphere\n",
      "iter:11100 loss = 0.19889694452285767 lr=0.0004994992119981981\n"
     ]
    },
    {
     "output_type": "stream",
     "name": "stderr",
     "text": [
      "  4%|▎         | 11201/300000 [28:43<11:47:55,  6.80it/s]"
     ]
    },
    {
     "output_type": "stream",
     "name": "stdout",
     "text": [
      "./exp/thin_cube/womask_sphere\n",
      "iter:11200 loss = 0.21070735156536102 lr=0.000499482661412298\n"
     ]
    },
    {
     "output_type": "stream",
     "name": "stderr",
     "text": [
      "  4%|▍         | 11301/300000 [28:57<11:51:15,  6.76it/s]"
     ]
    },
    {
     "output_type": "stream",
     "name": "stdout",
     "text": [
      "./exp/thin_cube/womask_sphere\n",
      "iter:11300 loss = 0.2530118525028229 lr=0.0004994658420616868\n"
     ]
    },
    {
     "output_type": "stream",
     "name": "stderr",
     "text": [
      "  4%|▍         | 11401/300000 [29:12<11:50:43,  6.77it/s]"
     ]
    },
    {
     "output_type": "stream",
     "name": "stdout",
     "text": [
      "./exp/thin_cube/womask_sphere\n",
      "iter:11400 loss = 0.18486711382865906 lr=0.0004994487539654398\n"
     ]
    },
    {
     "output_type": "stream",
     "name": "stderr",
     "text": [
      "  4%|▍         | 11501/300000 [29:27<12:00:01,  6.68it/s]"
     ]
    },
    {
     "output_type": "stream",
     "name": "stdout",
     "text": [
      "./exp/thin_cube/womask_sphere\n",
      "iter:11500 loss = 0.18603914976119995 lr=0.0004994313971429365\n"
     ]
    },
    {
     "output_type": "stream",
     "name": "stderr",
     "text": [
      "  4%|▍         | 11601/300000 [29:42<11:46:02,  6.81it/s]"
     ]
    },
    {
     "output_type": "stream",
     "name": "stdout",
     "text": [
      "./exp/thin_cube/womask_sphere\n",
      "iter:11600 loss = 0.17327538132667542 lr=0.0004994137716138618\n"
     ]
    },
    {
     "output_type": "stream",
     "name": "stderr",
     "text": [
      "  4%|▍         | 11701/300000 [29:56<11:42:34,  6.84it/s]"
     ]
    },
    {
     "output_type": "stream",
     "name": "stdout",
     "text": [
      "./exp/thin_cube/womask_sphere\n",
      "iter:11700 loss = 0.18560461699962616 lr=0.0004993958773982048\n"
     ]
    },
    {
     "output_type": "stream",
     "name": "stderr",
     "text": [
      "  4%|▍         | 11801/300000 [30:11<11:43:47,  6.82it/s]"
     ]
    },
    {
     "output_type": "stream",
     "name": "stdout",
     "text": [
      "./exp/thin_cube/womask_sphere\n",
      "iter:11800 loss = 0.17860959470272064 lr=0.0004993777145162596\n"
     ]
    },
    {
     "output_type": "stream",
     "name": "stderr",
     "text": [
      "  4%|▍         | 11901/300000 [30:26<11:48:58,  6.77it/s]"
     ]
    },
    {
     "output_type": "stream",
     "name": "stdout",
     "text": [
      "./exp/thin_cube/womask_sphere\n",
      "iter:11900 loss = 0.17258819937705994 lr=0.0004993592829886248\n"
     ]
    },
    {
     "output_type": "stream",
     "name": "stderr",
     "text": [
      "  4%|▍         | 12001/300000 [30:41<11:52:23,  6.74it/s]"
     ]
    },
    {
     "output_type": "stream",
     "name": "stdout",
     "text": [
      "./exp/thin_cube/womask_sphere\n",
      "iter:12000 loss = 0.1710241585969925 lr=0.0004993405828362041\n"
     ]
    },
    {
     "output_type": "stream",
     "name": "stderr",
     "text": [
      "  4%|▍         | 12101/300000 [30:56<12:00:13,  6.66it/s]"
     ]
    },
    {
     "output_type": "stream",
     "name": "stdout",
     "text": [
      "./exp/thin_cube/womask_sphere\n",
      "iter:12100 loss = 0.17023536562919617 lr=0.0004993216140802052\n"
     ]
    },
    {
     "output_type": "stream",
     "name": "stderr",
     "text": [
      "  4%|▍         | 12201/300000 [31:10<11:45:30,  6.80it/s]"
     ]
    },
    {
     "output_type": "stream",
     "name": "stdout",
     "text": [
      "./exp/thin_cube/womask_sphere\n",
      "iter:12200 loss = 0.18426527082920074 lr=0.000499302376742141\n"
     ]
    },
    {
     "output_type": "stream",
     "name": "stderr",
     "text": [
      "  4%|▍         | 12301/300000 [31:25<11:44:17,  6.81it/s]"
     ]
    },
    {
     "output_type": "stream",
     "name": "stdout",
     "text": [
      "./exp/thin_cube/womask_sphere\n",
      "iter:12300 loss = 0.15372341871261597 lr=0.0004992828708438289\n"
     ]
    },
    {
     "output_type": "stream",
     "name": "stderr",
     "text": [
      "  4%|▍         | 12401/300000 [31:40<11:45:36,  6.79it/s]"
     ]
    },
    {
     "output_type": "stream",
     "name": "stdout",
     "text": [
      "./exp/thin_cube/womask_sphere\n",
      "iter:12400 loss = 0.15921229124069214 lr=0.0004992630964073904\n"
     ]
    },
    {
     "output_type": "stream",
     "name": "stderr",
     "text": [
      "  4%|▍         | 12499/300000 [31:54<11:44:15,  6.80it/s]"
     ]
    },
    {
     "output_type": "stream",
     "name": "stdout",
     "text": [
      "./exp/thin_cube/womask_sphere\n",
      "iter:12500 loss = 0.16588668525218964 lr=0.0004992430534552522\n",
      "Validate: iter: 12500, camera: 30\n"
     ]
    },
    {
     "output_type": "stream",
     "name": "stderr",
     "text": [
      "  4%|▍         | 12601/300000 [32:30<11:55:48,  6.69it/s]"
     ]
    },
    {
     "output_type": "stream",
     "name": "stdout",
     "text": [
      "./exp/thin_cube/womask_sphere\n",
      "iter:12600 loss = 0.15854772925376892 lr=0.0004992227420101451\n"
     ]
    },
    {
     "output_type": "stream",
     "name": "stderr",
     "text": [
      "  4%|▍         | 12701/300000 [32:45<11:45:35,  6.79it/s]"
     ]
    },
    {
     "output_type": "stream",
     "name": "stdout",
     "text": [
      "./exp/thin_cube/womask_sphere\n",
      "iter:12700 loss = 0.17698940634727478 lr=0.0004992021620951045\n"
     ]
    },
    {
     "output_type": "stream",
     "name": "stderr",
     "text": [
      "  4%|▍         | 12801/300000 [33:00<11:49:59,  6.74it/s]"
     ]
    },
    {
     "output_type": "stream",
     "name": "stdout",
     "text": [
      "./exp/thin_cube/womask_sphere\n",
      "iter:12800 loss = 0.15758275985717773 lr=0.0004991813137334705\n"
     ]
    },
    {
     "output_type": "stream",
     "name": "stderr",
     "text": [
      "  4%|▍         | 12901/300000 [33:15<11:48:23,  6.75it/s]"
     ]
    },
    {
     "output_type": "stream",
     "name": "stdout",
     "text": [
      "./exp/thin_cube/womask_sphere\n",
      "iter:12900 loss = 0.1596350371837616 lr=0.0004991601969488874\n"
     ]
    },
    {
     "output_type": "stream",
     "name": "stderr",
     "text": [
      "  4%|▍         | 13001/300000 [33:30<11:42:36,  6.81it/s]"
     ]
    },
    {
     "output_type": "stream",
     "name": "stdout",
     "text": [
      "./exp/thin_cube/womask_sphere\n",
      "iter:13000 loss = 0.15904976427555084 lr=0.000499138811765304\n"
     ]
    },
    {
     "output_type": "stream",
     "name": "stderr",
     "text": [
      "  4%|▍         | 13101/300000 [33:44<11:49:04,  6.74it/s]"
     ]
    },
    {
     "output_type": "stream",
     "name": "stdout",
     "text": [
      "./exp/thin_cube/womask_sphere\n",
      "iter:13100 loss = 0.1578127145767212 lr=0.0004991171582069732\n"
     ]
    },
    {
     "output_type": "stream",
     "name": "stderr",
     "text": [
      "  4%|▍         | 13201/300000 [33:59<11:49:03,  6.74it/s]"
     ]
    },
    {
     "output_type": "stream",
     "name": "stdout",
     "text": [
      "./exp/thin_cube/womask_sphere\n",
      "iter:13200 loss = 0.15400172770023346 lr=0.0004990952362984528\n"
     ]
    },
    {
     "output_type": "stream",
     "name": "stderr",
     "text": [
      "  4%|▍         | 13301/300000 [34:14<11:56:19,  6.67it/s]"
     ]
    },
    {
     "output_type": "stream",
     "name": "stdout",
     "text": [
      "./exp/thin_cube/womask_sphere\n",
      "iter:13300 loss = 0.1446545571088791 lr=0.0004990730460646048\n"
     ]
    },
    {
     "output_type": "stream",
     "name": "stderr",
     "text": [
      "  4%|▍         | 13401/300000 [34:29<11:59:34,  6.64it/s]"
     ]
    },
    {
     "output_type": "stream",
     "name": "stdout",
     "text": [
      "./exp/thin_cube/womask_sphere\n",
      "iter:13400 loss = 0.17722491919994354 lr=0.0004990505875305952\n"
     ]
    },
    {
     "output_type": "stream",
     "name": "stderr",
     "text": [
      "  5%|▍         | 13501/300000 [34:44<11:53:29,  6.69it/s]"
     ]
    },
    {
     "output_type": "stream",
     "name": "stdout",
     "text": [
      "./exp/thin_cube/womask_sphere\n",
      "iter:13500 loss = 0.1663646399974823 lr=0.0004990278607218945\n"
     ]
    },
    {
     "output_type": "stream",
     "name": "stderr",
     "text": [
      "  5%|▍         | 13601/300000 [34:59<11:47:17,  6.75it/s]"
     ]
    },
    {
     "output_type": "stream",
     "name": "stdout",
     "text": [
      "./exp/thin_cube/womask_sphere\n",
      "iter:13600 loss = 0.16281302273273468 lr=0.0004990048656642773\n"
     ]
    },
    {
     "output_type": "stream",
     "name": "stderr",
     "text": [
      "  5%|▍         | 13701/300000 [35:13<11:47:04,  6.75it/s]"
     ]
    },
    {
     "output_type": "stream",
     "name": "stdout",
     "text": [
      "./exp/thin_cube/womask_sphere\n",
      "iter:13700 loss = 0.15883789956569672 lr=0.0004989816023838227\n"
     ]
    },
    {
     "output_type": "stream",
     "name": "stderr",
     "text": [
      "  5%|▍         | 13801/300000 [35:28<11:44:42,  6.77it/s]"
     ]
    },
    {
     "output_type": "stream",
     "name": "stdout",
     "text": [
      "./exp/thin_cube/womask_sphere\n",
      "iter:13800 loss = 0.17758961021900177 lr=0.0004989580709069141\n"
     ]
    },
    {
     "output_type": "stream",
     "name": "stderr",
     "text": [
      "  5%|▍         | 13901/300000 [35:43<11:49:04,  6.72it/s]"
     ]
    },
    {
     "output_type": "stream",
     "name": "stdout",
     "text": [
      "./exp/thin_cube/womask_sphere\n",
      "iter:13900 loss = 0.1495336890220642 lr=0.0004989342712602385\n"
     ]
    },
    {
     "output_type": "stream",
     "name": "stderr",
     "text": [
      "  5%|▍         | 14001/300000 [35:58<11:45:46,  6.75it/s]"
     ]
    },
    {
     "output_type": "stream",
     "name": "stdout",
     "text": [
      "./exp/thin_cube/womask_sphere\n",
      "iter:14000 loss = 0.16773997247219086 lr=0.0004989102034707874\n"
     ]
    },
    {
     "output_type": "stream",
     "name": "stderr",
     "text": [
      "  5%|▍         | 14101/300000 [36:13<11:37:29,  6.83it/s]"
     ]
    },
    {
     "output_type": "stream",
     "name": "stdout",
     "text": [
      "./exp/thin_cube/womask_sphere\n",
      "iter:14100 loss = 0.1486581265926361 lr=0.0004988858675658562\n"
     ]
    },
    {
     "output_type": "stream",
     "name": "stderr",
     "text": [
      "  5%|▍         | 14201/300000 [36:27<11:39:32,  6.81it/s]"
     ]
    },
    {
     "output_type": "stream",
     "name": "stdout",
     "text": [
      "./exp/thin_cube/womask_sphere\n",
      "iter:14200 loss = 0.1438896805047989 lr=0.0004988612635730449\n"
     ]
    },
    {
     "output_type": "stream",
     "name": "stderr",
     "text": [
      "  5%|▍         | 14301/300000 [36:42<11:36:22,  6.84it/s]"
     ]
    },
    {
     "output_type": "stream",
     "name": "stdout",
     "text": [
      "./exp/thin_cube/womask_sphere\n",
      "iter:14300 loss = 0.1612463742494583 lr=0.0004988363915202569\n"
     ]
    },
    {
     "output_type": "stream",
     "name": "stderr",
     "text": [
      "  5%|▍         | 14401/300000 [36:57<11:36:14,  6.84it/s]"
     ]
    },
    {
     "output_type": "stream",
     "name": "stdout",
     "text": [
      "./exp/thin_cube/womask_sphere\n",
      "iter:14400 loss = 0.15913528203964233 lr=0.0004988112514356999\n"
     ]
    },
    {
     "output_type": "stream",
     "name": "stderr",
     "text": [
      "  5%|▍         | 14501/300000 [37:11<11:37:14,  6.82it/s]"
     ]
    },
    {
     "output_type": "stream",
     "name": "stdout",
     "text": [
      "./exp/thin_cube/womask_sphere\n",
      "iter:14500 loss = 0.16036485135555267 lr=0.0004987858433478855\n"
     ]
    },
    {
     "output_type": "stream",
     "name": "stderr",
     "text": [
      "  5%|▍         | 14601/300000 [37:26<11:38:19,  6.81it/s]"
     ]
    },
    {
     "output_type": "stream",
     "name": "stdout",
     "text": [
      "./exp/thin_cube/womask_sphere\n",
      "iter:14600 loss = 0.14916454255580902 lr=0.0004987601672856296\n"
     ]
    },
    {
     "output_type": "stream",
     "name": "stderr",
     "text": [
      "  5%|▍         | 14701/300000 [37:40<11:34:36,  6.85it/s]"
     ]
    },
    {
     "output_type": "stream",
     "name": "stdout",
     "text": [
      "./exp/thin_cube/womask_sphere\n",
      "iter:14700 loss = 0.16141806542873383 lr=0.0004987342232780513\n"
     ]
    },
    {
     "output_type": "stream",
     "name": "stderr",
     "text": [
      "  5%|▍         | 14801/300000 [37:55<11:31:04,  6.88it/s]"
     ]
    },
    {
     "output_type": "stream",
     "name": "stdout",
     "text": [
      "./exp/thin_cube/womask_sphere\n",
      "iter:14800 loss = 0.14080332219600677 lr=0.0004987080113545743\n"
     ]
    },
    {
     "output_type": "stream",
     "name": "stderr",
     "text": [
      "  5%|▍         | 14901/300000 [38:10<11:40:13,  6.79it/s]"
     ]
    },
    {
     "output_type": "stream",
     "name": "stdout",
     "text": [
      "./exp/thin_cube/womask_sphere\n",
      "iter:14900 loss = 0.14648345112800598 lr=0.0004986815315449258\n"
     ]
    },
    {
     "output_type": "stream",
     "name": "stderr",
     "text": [
      "  5%|▍         | 14999/300000 [38:24<11:29:59,  6.88it/s]"
     ]
    },
    {
     "output_type": "stream",
     "name": "stdout",
     "text": [
      "./exp/thin_cube/womask_sphere\n",
      "iter:15000 loss = 0.16183653473854065 lr=0.0004986547838791366\n",
      "Validate: iter: 15000, camera: 19\n"
     ]
    },
    {
     "output_type": "stream",
     "name": "stderr",
     "text": [
      "  5%|▌         | 15001/300000 [38:46<361:19:01,  4.56s/it]"
     ]
    },
    {
     "output_type": "stream",
     "name": "stdout",
     "text": [
      "threshold: 0.0\n"
     ]
    },
    {
     "output_type": "stream",
     "name": "stderr",
     "text": [
      "  5%|▌         | 15101/300000 [39:00<11:34:13,  6.84it/s]"
     ]
    },
    {
     "output_type": "stream",
     "name": "stdout",
     "text": [
      "./exp/thin_cube/womask_sphere\n",
      "iter:15100 loss = 0.1708335429430008 lr=0.0004986277683875418\n"
     ]
    },
    {
     "output_type": "stream",
     "name": "stderr",
     "text": [
      "  5%|▌         | 15201/300000 [39:15<11:44:11,  6.74it/s]"
     ]
    },
    {
     "output_type": "stream",
     "name": "stdout",
     "text": [
      "./exp/thin_cube/womask_sphere\n",
      "iter:15200 loss = 0.1326528638601303 lr=0.0004986004851007798\n"
     ]
    },
    {
     "output_type": "stream",
     "name": "stderr",
     "text": [
      "  5%|▌         | 15301/300000 [39:30<11:39:35,  6.78it/s]"
     ]
    },
    {
     "output_type": "stream",
     "name": "stdout",
     "text": [
      "./exp/thin_cube/womask_sphere\n",
      "iter:15300 loss = 0.14169016480445862 lr=0.000498572934049793\n"
     ]
    },
    {
     "output_type": "stream",
     "name": "stderr",
     "text": [
      "  5%|▌         | 15401/300000 [39:44<11:34:39,  6.83it/s]"
     ]
    },
    {
     "output_type": "stream",
     "name": "stdout",
     "text": [
      "./exp/thin_cube/womask_sphere\n",
      "iter:15400 loss = 0.14428043365478516 lr=0.0004985451152658275\n"
     ]
    },
    {
     "output_type": "stream",
     "name": "stderr",
     "text": [
      "  5%|▌         | 15501/300000 [39:59<11:35:52,  6.81it/s]"
     ]
    },
    {
     "output_type": "stream",
     "name": "stdout",
     "text": [
      "./exp/thin_cube/womask_sphere\n",
      "iter:15500 loss = 0.1443047672510147 lr=0.0004985170287804325\n"
     ]
    },
    {
     "output_type": "stream",
     "name": "stderr",
     "text": [
      "  5%|▌         | 15601/300000 [40:14<11:47:17,  6.70it/s]"
     ]
    },
    {
     "output_type": "stream",
     "name": "stdout",
     "text": [
      "./exp/thin_cube/womask_sphere\n",
      "iter:15600 loss = 0.14248666167259216 lr=0.0004984886746254615\n"
     ]
    },
    {
     "output_type": "stream",
     "name": "stderr",
     "text": [
      "  5%|▌         | 15701/300000 [40:28<11:31:52,  6.85it/s]"
     ]
    },
    {
     "output_type": "stream",
     "name": "stdout",
     "text": [
      "./exp/thin_cube/womask_sphere\n",
      "iter:15700 loss = 0.14568033814430237 lr=0.0004984600528330712\n"
     ]
    },
    {
     "output_type": "stream",
     "name": "stderr",
     "text": [
      "  5%|▌         | 15801/300000 [40:43<11:41:26,  6.75it/s]"
     ]
    },
    {
     "output_type": "stream",
     "name": "stdout",
     "text": [
      "./exp/thin_cube/womask_sphere\n",
      "iter:15800 loss = 0.1379864364862442 lr=0.0004984311634357218\n"
     ]
    },
    {
     "output_type": "stream",
     "name": "stderr",
     "text": [
      "  5%|▌         | 15901/300000 [40:58<11:28:20,  6.88it/s]"
     ]
    },
    {
     "output_type": "stream",
     "name": "stdout",
     "text": [
      "./exp/thin_cube/womask_sphere\n",
      "iter:15900 loss = 0.14384105801582336 lr=0.0004984020064661773\n"
     ]
    },
    {
     "output_type": "stream",
     "name": "stderr",
     "text": [
      "  5%|▌         | 16001/300000 [41:12<11:33:31,  6.83it/s]"
     ]
    },
    {
     "output_type": "stream",
     "name": "stdout",
     "text": [
      "./exp/thin_cube/womask_sphere\n",
      "iter:16000 loss = 0.14100892841815948 lr=0.0004983725819575048\n"
     ]
    },
    {
     "output_type": "stream",
     "name": "stderr",
     "text": [
      "  5%|▌         | 16101/300000 [41:27<11:27:22,  6.88it/s]"
     ]
    },
    {
     "output_type": "stream",
     "name": "stdout",
     "text": [
      "./exp/thin_cube/womask_sphere\n",
      "iter:16100 loss = 0.15212474763393402 lr=0.000498342889943075\n"
     ]
    },
    {
     "output_type": "stream",
     "name": "stderr",
     "text": [
      "  5%|▌         | 16201/300000 [41:41<11:36:24,  6.79it/s]"
     ]
    },
    {
     "output_type": "stream",
     "name": "stdout",
     "text": [
      "./exp/thin_cube/womask_sphere\n",
      "iter:16200 loss = 0.14632679522037506 lr=0.0004983129304565618\n"
     ]
    },
    {
     "output_type": "stream",
     "name": "stderr",
     "text": [
      "  5%|▌         | 16301/300000 [41:56<11:32:56,  6.82it/s]"
     ]
    },
    {
     "output_type": "stream",
     "name": "stdout",
     "text": [
      "./exp/thin_cube/womask_sphere\n",
      "iter:16300 loss = 0.13080669939517975 lr=0.0004982827035319428\n"
     ]
    },
    {
     "output_type": "stream",
     "name": "stderr",
     "text": [
      "  5%|▌         | 16401/300000 [42:11<11:39:34,  6.76it/s]"
     ]
    },
    {
     "output_type": "stream",
     "name": "stdout",
     "text": [
      "./exp/thin_cube/womask_sphere\n",
      "iter:16400 loss = 0.13187247514724731 lr=0.0004982522092034987\n"
     ]
    },
    {
     "output_type": "stream",
     "name": "stderr",
     "text": [
      "  6%|▌         | 16501/300000 [42:25<11:32:33,  6.82it/s]"
     ]
    },
    {
     "output_type": "stream",
     "name": "stdout",
     "text": [
      "./exp/thin_cube/womask_sphere\n",
      "iter:16500 loss = 0.1266092211008072 lr=0.0004982214475058134\n"
     ]
    },
    {
     "output_type": "stream",
     "name": "stderr",
     "text": [
      "  6%|▌         | 16601/300000 [42:40<11:28:03,  6.86it/s]"
     ]
    },
    {
     "output_type": "stream",
     "name": "stdout",
     "text": [
      "./exp/thin_cube/womask_sphere\n",
      "iter:16600 loss = 0.14166101813316345 lr=0.0004981904184737741\n"
     ]
    },
    {
     "output_type": "stream",
     "name": "stderr",
     "text": [
      "  6%|▌         | 16701/300000 [42:54<11:28:04,  6.86it/s]"
     ]
    },
    {
     "output_type": "stream",
     "name": "stdout",
     "text": [
      "./exp/thin_cube/womask_sphere\n",
      "iter:16700 loss = 0.150959312915802 lr=0.000498159122142571\n"
     ]
    },
    {
     "output_type": "stream",
     "name": "stderr",
     "text": [
      "  6%|▌         | 16801/300000 [43:09<11:34:45,  6.79it/s]"
     ]
    },
    {
     "output_type": "stream",
     "name": "stdout",
     "text": [
      "./exp/thin_cube/womask_sphere\n",
      "iter:16800 loss = 0.13263630867004395 lr=0.0004981275585476979\n"
     ]
    },
    {
     "output_type": "stream",
     "name": "stderr",
     "text": [
      "  6%|▌         | 16901/300000 [43:24<11:32:35,  6.81it/s]"
     ]
    },
    {
     "output_type": "stream",
     "name": "stdout",
     "text": [
      "./exp/thin_cube/womask_sphere\n",
      "iter:16900 loss = 0.14242418110370636 lr=0.0004980957277249513\n"
     ]
    },
    {
     "output_type": "stream",
     "name": "stderr",
     "text": [
      "  6%|▌         | 17001/300000 [43:38<11:29:46,  6.84it/s]"
     ]
    },
    {
     "output_type": "stream",
     "name": "stdout",
     "text": [
      "./exp/thin_cube/womask_sphere\n",
      "iter:17000 loss = 0.14222145080566406 lr=0.0004980636297104308\n"
     ]
    },
    {
     "output_type": "stream",
     "name": "stderr",
     "text": [
      "  6%|▌         | 17101/300000 [43:53<11:26:25,  6.87it/s]"
     ]
    },
    {
     "output_type": "stream",
     "name": "stdout",
     "text": [
      "./exp/thin_cube/womask_sphere\n",
      "iter:17100 loss = 0.14317770302295685 lr=0.0004980312645405393\n"
     ]
    },
    {
     "output_type": "stream",
     "name": "stderr",
     "text": [
      "  6%|▌         | 17201/300000 [44:08<11:28:14,  6.85it/s]"
     ]
    },
    {
     "output_type": "stream",
     "name": "stdout",
     "text": [
      "./exp/thin_cube/womask_sphere\n",
      "iter:17200 loss = 0.1283067911863327 lr=0.0004979986322519825\n"
     ]
    },
    {
     "output_type": "stream",
     "name": "stderr",
     "text": [
      "  6%|▌         | 17301/300000 [44:22<11:29:53,  6.83it/s]"
     ]
    },
    {
     "output_type": "stream",
     "name": "stdout",
     "text": [
      "./exp/thin_cube/womask_sphere\n",
      "iter:17300 loss = 0.13501232862472534 lr=0.0004979657328817689\n"
     ]
    },
    {
     "output_type": "stream",
     "name": "stderr",
     "text": [
      "  6%|▌         | 17401/300000 [44:37<11:30:14,  6.82it/s]"
     ]
    },
    {
     "output_type": "stream",
     "name": "stdout",
     "text": [
      "./exp/thin_cube/womask_sphere\n",
      "iter:17400 loss = 0.1286509931087494 lr=0.0004979325664672101\n"
     ]
    },
    {
     "output_type": "stream",
     "name": "stderr",
     "text": [
      "  6%|▌         | 17499/300000 [44:51<11:28:20,  6.84it/s]"
     ]
    },
    {
     "output_type": "stream",
     "name": "stdout",
     "text": [
      "./exp/thin_cube/womask_sphere\n",
      "iter:17500 loss = 0.1525086611509323 lr=0.0004978991330459206\n",
      "Validate: iter: 17500, camera: 16\n"
     ]
    },
    {
     "output_type": "stream",
     "name": "stderr",
     "text": [
      "  6%|▌         | 17601/300000 [45:27<11:24:44,  6.87it/s]"
     ]
    },
    {
     "output_type": "stream",
     "name": "stdout",
     "text": [
      "./exp/thin_cube/womask_sphere\n",
      "iter:17600 loss = 0.13836577534675598 lr=0.0004978654326558174\n"
     ]
    },
    {
     "output_type": "stream",
     "name": "stderr",
     "text": [
      "  6%|▌         | 17701/300000 [45:41<11:32:21,  6.80it/s]"
     ]
    },
    {
     "output_type": "stream",
     "name": "stdout",
     "text": [
      "./exp/thin_cube/womask_sphere\n",
      "iter:17700 loss = 0.12413863837718964 lr=0.0004978314653351208\n"
     ]
    },
    {
     "output_type": "stream",
     "name": "stderr",
     "text": [
      "  6%|▌         | 17801/300000 [45:56<11:22:13,  6.89it/s]"
     ]
    },
    {
     "output_type": "stream",
     "name": "stdout",
     "text": [
      "./exp/thin_cube/womask_sphere\n",
      "iter:17800 loss = 0.14171971380710602 lr=0.0004977972311223533\n"
     ]
    },
    {
     "output_type": "stream",
     "name": "stderr",
     "text": [
      "  6%|▌         | 17901/300000 [46:11<11:24:07,  6.87it/s]"
     ]
    },
    {
     "output_type": "stream",
     "name": "stdout",
     "text": [
      "./exp/thin_cube/womask_sphere\n",
      "iter:17900 loss = 0.12815625965595245 lr=0.0004977627300563404\n"
     ]
    },
    {
     "output_type": "stream",
     "name": "stderr",
     "text": [
      "  6%|▌         | 18001/300000 [46:25<11:21:47,  6.89it/s]"
     ]
    },
    {
     "output_type": "stream",
     "name": "stdout",
     "text": [
      "./exp/thin_cube/womask_sphere\n",
      "iter:18000 loss = 0.1362071931362152 lr=0.00049772796217621\n"
     ]
    },
    {
     "output_type": "stream",
     "name": "stderr",
     "text": [
      "  6%|▌         | 18101/300000 [46:40<11:25:57,  6.85it/s]"
     ]
    },
    {
     "output_type": "stream",
     "name": "stdout",
     "text": [
      "./exp/thin_cube/womask_sphere\n",
      "iter:18100 loss = 0.14436030387878418 lr=0.000497692927521393\n"
     ]
    },
    {
     "output_type": "stream",
     "name": "stderr",
     "text": [
      "  6%|▌         | 18201/300000 [46:54<11:37:11,  6.74it/s]"
     ]
    },
    {
     "output_type": "stream",
     "name": "stdout",
     "text": [
      "./exp/thin_cube/womask_sphere\n",
      "iter:18200 loss = 0.14358261227607727 lr=0.0004976576261316223\n"
     ]
    },
    {
     "output_type": "stream",
     "name": "stderr",
     "text": [
      "  6%|▌         | 18301/300000 [47:09<11:28:19,  6.82it/s]"
     ]
    },
    {
     "output_type": "stream",
     "name": "stdout",
     "text": [
      "./exp/thin_cube/womask_sphere\n",
      "iter:18300 loss = 0.12106335163116455 lr=0.000497622058046934\n"
     ]
    },
    {
     "output_type": "stream",
     "name": "stderr",
     "text": [
      "  6%|▌         | 18401/300000 [47:24<11:22:55,  6.87it/s]"
     ]
    },
    {
     "output_type": "stream",
     "name": "stdout",
     "text": [
      "./exp/thin_cube/womask_sphere\n",
      "iter:18400 loss = 0.12376125156879425 lr=0.0004975862233076658\n"
     ]
    },
    {
     "output_type": "stream",
     "name": "stderr",
     "text": [
      "  6%|▌         | 18501/300000 [47:38<11:26:56,  6.83it/s]"
     ]
    },
    {
     "output_type": "stream",
     "name": "stdout",
     "text": [
      "./exp/thin_cube/womask_sphere\n",
      "iter:18500 loss = 0.13500478863716125 lr=0.0004975501219544586\n"
     ]
    },
    {
     "output_type": "stream",
     "name": "stderr",
     "text": [
      "  6%|▌         | 18601/300000 [47:53<11:27:35,  6.82it/s]"
     ]
    },
    {
     "output_type": "stream",
     "name": "stdout",
     "text": [
      "./exp/thin_cube/womask_sphere\n",
      "iter:18600 loss = 0.12921734154224396 lr=0.0004975137540282553\n"
     ]
    },
    {
     "output_type": "stream",
     "name": "stderr",
     "text": [
      "  6%|▌         | 18701/300000 [48:07<11:26:53,  6.83it/s]"
     ]
    },
    {
     "output_type": "stream",
     "name": "stdout",
     "text": [
      "./exp/thin_cube/womask_sphere\n",
      "iter:18700 loss = 0.12433870881795883 lr=0.0004974771195703011\n"
     ]
    },
    {
     "output_type": "stream",
     "name": "stderr",
     "text": [
      "  6%|▋         | 18801/300000 [48:22<11:30:42,  6.79it/s]"
     ]
    },
    {
     "output_type": "stream",
     "name": "stdout",
     "text": [
      "./exp/thin_cube/womask_sphere\n",
      "iter:18800 loss = 0.1489095687866211 lr=0.0004974402186221436\n"
     ]
    },
    {
     "output_type": "stream",
     "name": "stderr",
     "text": [
      "  6%|▋         | 18901/300000 [48:37<11:24:51,  6.84it/s]"
     ]
    },
    {
     "output_type": "stream",
     "name": "stdout",
     "text": [
      "./exp/thin_cube/womask_sphere\n",
      "iter:18900 loss = 0.1362198293209076 lr=0.0004974030512256327\n"
     ]
    },
    {
     "output_type": "stream",
     "name": "stderr",
     "text": [
      "  6%|▋         | 19001/300000 [48:51<11:23:07,  6.86it/s]"
     ]
    },
    {
     "output_type": "stream",
     "name": "stdout",
     "text": [
      "./exp/thin_cube/womask_sphere\n",
      "iter:19000 loss = 0.11405155807733536 lr=0.00049736561742292\n"
     ]
    },
    {
     "output_type": "stream",
     "name": "stderr",
     "text": [
      "  6%|▋         | 19004/300000 [48:52<11:23:52,  6.85it/s]"
     ]
    }
   ],
   "source": [
    "%run exp_runner.py --mode train --conf ./confs/womask.conf --case thin_cube"
   ]
  },
  {
   "cell_type": "code",
   "source": [],
   "metadata": {
    "id": "PWAImhKrPppH"
   },
   "execution_count": null,
   "outputs": []
  }
 ],
 "metadata": {
  "kernelspec": {
   "display_name": "Python 3",
   "name": "python3"
  },
  "language_info": {
   "codemirror_mode": {
    "name": "ipython",
    "version": 2
   },
   "file_extension": ".py",
   "mimetype": "text/x-python",
   "name": "python",
   "nbconvert_exporter": "python",
   "pygments_lexer": "ipython2",
   "version": "2.7.6"
  },
  "colab": {
   "provenance": [],
   "machine_shape": "hm",
   "gpuType": "V100"
  },
  "accelerator": "GPU"
 },
 "nbformat": 4,
 "nbformat_minor": 0
}
